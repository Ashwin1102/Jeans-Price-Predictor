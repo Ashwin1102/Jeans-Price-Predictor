{
 "cells": [
  {
   "cell_type": "code",
   "execution_count": 1,
   "id": "4ecd62ec-cfc2-44da-b9c8-a667010d4668",
   "metadata": {},
   "outputs": [],
   "source": [
    "import pandas as pd"
   ]
  },
  {
   "cell_type": "code",
   "execution_count": 2,
   "id": "8e2517ab-c091-4282-84f6-c38862ab8772",
   "metadata": {},
   "outputs": [],
   "source": [
    "df = pd.read_csv('cleaned_jeans_data.csv')"
   ]
  },
  {
   "cell_type": "code",
   "execution_count": 3,
   "id": "d64046fe-1632-4e78-9aaa-997525d33d62",
   "metadata": {},
   "outputs": [
    {
     "data": {
      "text/html": [
       "<div>\n",
       "<style scoped>\n",
       "    .dataframe tbody tr th:only-of-type {\n",
       "        vertical-align: middle;\n",
       "    }\n",
       "\n",
       "    .dataframe tbody tr th {\n",
       "        vertical-align: top;\n",
       "    }\n",
       "\n",
       "    .dataframe thead th {\n",
       "        text-align: right;\n",
       "    }\n",
       "</style>\n",
       "<table border=\"1\" class=\"dataframe\">\n",
       "  <thead>\n",
       "    <tr style=\"text-align: right;\">\n",
       "      <th></th>\n",
       "      <th>brand</th>\n",
       "      <th>distress</th>\n",
       "      <th>waist_rise</th>\n",
       "      <th>length</th>\n",
       "      <th>fit</th>\n",
       "      <th>number_of_pockets</th>\n",
       "      <th>stretch</th>\n",
       "      <th>price</th>\n",
       "      <th>rating</th>\n",
       "      <th>number_of_ratings</th>\n",
       "    </tr>\n",
       "  </thead>\n",
       "  <tbody>\n",
       "    <tr>\n",
       "      <th>0</th>\n",
       "      <td>Marks &amp; Spencer</td>\n",
       "      <td>Clean Look</td>\n",
       "      <td>Mid-Rise</td>\n",
       "      <td>Regular</td>\n",
       "      <td>Slim Fit</td>\n",
       "      <td>5</td>\n",
       "      <td>Non Stretchable</td>\n",
       "      <td>1119</td>\n",
       "      <td>4.8</td>\n",
       "      <td>13</td>\n",
       "    </tr>\n",
       "    <tr>\n",
       "      <th>1</th>\n",
       "      <td>Levis</td>\n",
       "      <td>Clean Look</td>\n",
       "      <td>Mid-Rise</td>\n",
       "      <td>Regular</td>\n",
       "      <td>Slim Fit</td>\n",
       "      <td>5</td>\n",
       "      <td>Stretchable</td>\n",
       "      <td>1499</td>\n",
       "      <td>4.4</td>\n",
       "      <td>259</td>\n",
       "    </tr>\n",
       "    <tr>\n",
       "      <th>2</th>\n",
       "      <td>Urbano Fashion</td>\n",
       "      <td>Clean Look</td>\n",
       "      <td>Mid-Rise</td>\n",
       "      <td>Regular</td>\n",
       "      <td>Slim Fit</td>\n",
       "      <td>5</td>\n",
       "      <td>Stretchable</td>\n",
       "      <td>601</td>\n",
       "      <td>3.9</td>\n",
       "      <td>17100</td>\n",
       "    </tr>\n",
       "    <tr>\n",
       "      <th>3</th>\n",
       "      <td>Levis</td>\n",
       "      <td>Clean Look</td>\n",
       "      <td>Mid-Rise</td>\n",
       "      <td>Regular</td>\n",
       "      <td>Tapered Fit</td>\n",
       "      <td>5</td>\n",
       "      <td>Stretchable</td>\n",
       "      <td>1829</td>\n",
       "      <td>4.1</td>\n",
       "      <td>96</td>\n",
       "    </tr>\n",
       "    <tr>\n",
       "      <th>4</th>\n",
       "      <td>Jack &amp; Jones</td>\n",
       "      <td>Clean Look</td>\n",
       "      <td>Mid-Rise</td>\n",
       "      <td>Regular</td>\n",
       "      <td>Bootcut</td>\n",
       "      <td>5</td>\n",
       "      <td>Stretchable</td>\n",
       "      <td>2124</td>\n",
       "      <td>4.4</td>\n",
       "      <td>148</td>\n",
       "    </tr>\n",
       "  </tbody>\n",
       "</table>\n",
       "</div>"
      ],
      "text/plain": [
       "             brand    distress waist_rise   length          fit  \\\n",
       "0  Marks & Spencer  Clean Look   Mid-Rise  Regular     Slim Fit   \n",
       "1            Levis  Clean Look   Mid-Rise  Regular     Slim Fit   \n",
       "2   Urbano Fashion  Clean Look   Mid-Rise  Regular     Slim Fit   \n",
       "3            Levis  Clean Look   Mid-Rise  Regular  Tapered Fit   \n",
       "4     Jack & Jones  Clean Look   Mid-Rise  Regular      Bootcut   \n",
       "\n",
       "  number_of_pockets          stretch  price  rating  number_of_ratings  \n",
       "0                 5  Non Stretchable   1119     4.8                 13  \n",
       "1                 5      Stretchable   1499     4.4                259  \n",
       "2                 5      Stretchable    601     3.9              17100  \n",
       "3                 5      Stretchable   1829     4.1                 96  \n",
       "4                 5      Stretchable   2124     4.4                148  "
      ]
     },
     "execution_count": 3,
     "metadata": {},
     "output_type": "execute_result"
    }
   ],
   "source": [
    "df.head()"
   ]
  },
  {
   "cell_type": "code",
   "execution_count": 5,
   "id": "9878ad62-675e-44b8-b6bb-66ae5f2e9e9d",
   "metadata": {},
   "outputs": [
    {
     "data": {
      "text/plain": [
       "array(['Marks & Spencer', 'Levis', 'Urbano Fashion', 'Jack & Jones',\n",
       "       'The Indian Garage Co', 'HIGHLANDER', 'Roadster', 'Bene Kleed',\n",
       "       'Mast & Harbour', 'Hubberholme', 'HERE&NOW', 'Being Human',\n",
       "       'WROGN', 'Ducati', 'Bewakoof', 'Urbano Plus', 'RARE RABBIT',\n",
       "       'Kook N Keech', 'Powerlook', 'AD By Arvind',\n",
       "       'VAN HEUSEN DENIM LABS', 'Blackberrys', 'Nautica',\n",
       "       'Flying Machine', 'Moda Rapido', 'KETCH', 'Sztori',\n",
       "       'Forca by Lifestyle', 'Dennis Lingo', 'Styli', 'French Connection',\n",
       "       'SF JEANS by Pantaloons', 'V-Mart',\n",
       "       'R.Code by The Roadster Life Co.', 'High Star', 'FREAKINS',\n",
       "       'Pepe Jeans', 'SELECTED', 'Turtle', 'Red Tape',\n",
       "       'BEAT LONDON by PEPE JEANS', 'Campus Sutra', 'PARIS HAMILTON',\n",
       "       'Thomas Scott', 'Mufti', 'MASCLN SASSAFRAS',\n",
       "       'Louis Philippe Jeans', 'SPYKAR', 'Code 61', 'CINOCCI',\n",
       "       'Indian Terrain', 'max', 'Style Quotient', 'FCUK', 'RAGZO',\n",
       "       'Wrangler', 'Aeropostale', 'Mr Bowerbird', 'Jb Just BLACK',\n",
       "       'Celio', 'Lee', 'United Colors of Benetton', 'THE BEAR HOUSE',\n",
       "       'STUDIO NEXX', 'bigbanana', 'DAGERRFLY', 'BWOLVES', 'Cantabil',\n",
       "       'Turning Blue', 'Beyoung', 'U.S. Polo Assn. Denim Co.',\n",
       "       'LOCOMOTIVE', 'Monterrey SF', 'Freeform by High Star', 'Harvard',\n",
       "       'Snitch', 'Allen Cooper', 'Kotty', 'Allen Solly', 'GIORDANO',\n",
       "       'IVOC', 'Oxemberg', 'HJ HASASI', 'Llak Jeans', 'Instafab Plus',\n",
       "       'Xee', 'LOUIS STITCH', 'FOREVER 21', 'Rodamo', 'The Pant Project',\n",
       "       'John Pride', 'BAESD', 'Canary London', 'INVICTUS',\n",
       "       'AMERICAN EAGLE OUTFITTERS', 'IVOC Plus', 'Greenfibre',\n",
       "       'MyDesignation', 'MM-21', 'FUGAZEE', 'Passion', 'Crocodile',\n",
       "       'Indian Needle', 'WAIMEA', 'The Souled Store', 'styzon',\n",
       "       'HARDSODA', 'Globus', 'American Archer', 'People', 'Numero Uno',\n",
       "       'Van Heusen ACADEMY', 'Blue Buddha', 'Tistabene',\n",
       "       'YU by Pantaloons', 'Banana Club', 'CAMLA', 'Forca',\n",
       "       'Peter England Casuals', 'Arrow Sport', 'Bene Kleed Plus',\n",
       "       'Octave', 'Crimsoune Club', 'FEVER', 'Fame Forever by Lifestyle',\n",
       "       'TOMHIDDLE', 'Duke', 'DRAGON HILL', 'MOZZO', 'FORCE IX', 'Chennis',\n",
       "       'KULTPRIT', 'Trendyol', 'Roadster Fast and Furious', 'Routeen',\n",
       "       'boohooMAN', 'Parx', 'Jean Cafe', 'LC Waikiki', 'PAUL STREET',\n",
       "       'Peter England Better Jeans Company', 'VASTRADO', 'Bossini',\n",
       "       'PEPLOS', 'American Bull', 'Bushirt', 'TAHVO', 'Richlook',\n",
       "       'Hangup', 'H&M', 'DENNISON', 'Calvin Klein Jeans', 'True Religion',\n",
       "       'FUBAR', 'Tommy Hilfiger', 'MANGO MAN', 'Bonkers Corner'],\n",
       "      dtype=object)"
      ]
     },
     "execution_count": 5,
     "metadata": {},
     "output_type": "execute_result"
    }
   ],
   "source": [
    "df['brand'].unique()"
   ]
  },
  {
   "cell_type": "code",
   "execution_count": 4,
   "id": "95e3859e-acd8-4fa3-8b88-8eda8331edf5",
   "metadata": {},
   "outputs": [],
   "source": [
    "# Label Encoding\n",
    "from sklearn.preprocessing import OneHotEncoder, LabelEncoder\n",
    "\n",
    "le1 = LabelEncoder()\n",
    "le2 = LabelEncoder()\n",
    "\n",
    "df['fit'] = le1.fit_transform(df['fit'])\n",
    "df['brand'] = le2.fit_transform(df['brand'])"
   ]
  },
  {
   "cell_type": "code",
   "execution_count": 5,
   "id": "7cc22977-976b-45b7-bf97-56f9887dcb72",
   "metadata": {},
   "outputs": [],
   "source": [
    "X = df.drop('price', axis = 1)\n",
    "y = df['price']"
   ]
  },
  {
   "cell_type": "code",
   "execution_count": 6,
   "id": "e920a1cb-80c3-4b13-be90-71e9db904248",
   "metadata": {},
   "outputs": [],
   "source": [
    "from sklearn.model_selection import train_test_split\n",
    "\n",
    "X_train, X_test, y_train, y_test = train_test_split(X, y, test_size=0.3, random_state=42)"
   ]
  },
  {
   "cell_type": "code",
   "execution_count": 7,
   "id": "55330772-db5e-407a-922c-db63069c3159",
   "metadata": {},
   "outputs": [],
   "source": [
    "# One-Hot Encoding\n",
    "\n",
    "oh_cat_features = ['distress', 'waist_rise', 'number_of_pockets', 'stretch', 'length']\n",
    "le_cat_features = ['brand', 'fit']\n",
    "\n",
    "from sklearn.compose import ColumnTransformer\n",
    "from sklearn.preprocessing import OneHotEncoder, LabelEncoder\n",
    "\n",
    "oh_transformer = OneHotEncoder(drop = 'first')\n",
    "\n",
    "\n",
    "preprocessor = ColumnTransformer(\n",
    "    transformers=[\n",
    "        (\"OneHotEncoder\", OneHotEncoder(drop='first'), oh_cat_features),\n",
    "        (\"LabelEncoderFit\", 'passthrough', ['fit']),\n",
    "        (\"LabelEncoderBrand\", 'passthrough', ['brand'])\n",
    "    ], remainder='passthrough'\n",
    ")"
   ]
  },
  {
   "cell_type": "code",
   "execution_count": 8,
   "id": "488e8bc5-a6e9-4ed8-808e-c8b0c2c703f8",
   "metadata": {},
   "outputs": [],
   "source": [
    "X_train = preprocessor.fit_transform(X_train)"
   ]
  },
  {
   "cell_type": "code",
   "execution_count": 9,
   "id": "3c56b90c-a054-4e0f-acc7-747d789ed839",
   "metadata": {},
   "outputs": [],
   "source": [
    "X_test = preprocessor.transform(X_test)"
   ]
  },
  {
   "cell_type": "markdown",
   "id": "c5dfdfae-07eb-48d3-a675-2ed034c13158",
   "metadata": {},
   "source": [
    "## Random Forest Model"
   ]
  },
  {
   "cell_type": "code",
   "execution_count": 10,
   "id": "cae71cbe-276c-405f-b754-6e84aa47dc7a",
   "metadata": {},
   "outputs": [
    {
     "data": {
      "text/html": [
       "<style>#sk-container-id-1 {color: black;background-color: white;}#sk-container-id-1 pre{padding: 0;}#sk-container-id-1 div.sk-toggleable {background-color: white;}#sk-container-id-1 label.sk-toggleable__label {cursor: pointer;display: block;width: 100%;margin-bottom: 0;padding: 0.3em;box-sizing: border-box;text-align: center;}#sk-container-id-1 label.sk-toggleable__label-arrow:before {content: \"▸\";float: left;margin-right: 0.25em;color: #696969;}#sk-container-id-1 label.sk-toggleable__label-arrow:hover:before {color: black;}#sk-container-id-1 div.sk-estimator:hover label.sk-toggleable__label-arrow:before {color: black;}#sk-container-id-1 div.sk-toggleable__content {max-height: 0;max-width: 0;overflow: hidden;text-align: left;background-color: #f0f8ff;}#sk-container-id-1 div.sk-toggleable__content pre {margin: 0.2em;color: black;border-radius: 0.25em;background-color: #f0f8ff;}#sk-container-id-1 input.sk-toggleable__control:checked~div.sk-toggleable__content {max-height: 200px;max-width: 100%;overflow: auto;}#sk-container-id-1 input.sk-toggleable__control:checked~label.sk-toggleable__label-arrow:before {content: \"▾\";}#sk-container-id-1 div.sk-estimator input.sk-toggleable__control:checked~label.sk-toggleable__label {background-color: #d4ebff;}#sk-container-id-1 div.sk-label input.sk-toggleable__control:checked~label.sk-toggleable__label {background-color: #d4ebff;}#sk-container-id-1 input.sk-hidden--visually {border: 0;clip: rect(1px 1px 1px 1px);clip: rect(1px, 1px, 1px, 1px);height: 1px;margin: -1px;overflow: hidden;padding: 0;position: absolute;width: 1px;}#sk-container-id-1 div.sk-estimator {font-family: monospace;background-color: #f0f8ff;border: 1px dotted black;border-radius: 0.25em;box-sizing: border-box;margin-bottom: 0.5em;}#sk-container-id-1 div.sk-estimator:hover {background-color: #d4ebff;}#sk-container-id-1 div.sk-parallel-item::after {content: \"\";width: 100%;border-bottom: 1px solid gray;flex-grow: 1;}#sk-container-id-1 div.sk-label:hover label.sk-toggleable__label {background-color: #d4ebff;}#sk-container-id-1 div.sk-serial::before {content: \"\";position: absolute;border-left: 1px solid gray;box-sizing: border-box;top: 0;bottom: 0;left: 50%;z-index: 0;}#sk-container-id-1 div.sk-serial {display: flex;flex-direction: column;align-items: center;background-color: white;padding-right: 0.2em;padding-left: 0.2em;position: relative;}#sk-container-id-1 div.sk-item {position: relative;z-index: 1;}#sk-container-id-1 div.sk-parallel {display: flex;align-items: stretch;justify-content: center;background-color: white;position: relative;}#sk-container-id-1 div.sk-item::before, #sk-container-id-1 div.sk-parallel-item::before {content: \"\";position: absolute;border-left: 1px solid gray;box-sizing: border-box;top: 0;bottom: 0;left: 50%;z-index: -1;}#sk-container-id-1 div.sk-parallel-item {display: flex;flex-direction: column;z-index: 1;position: relative;background-color: white;}#sk-container-id-1 div.sk-parallel-item:first-child::after {align-self: flex-end;width: 50%;}#sk-container-id-1 div.sk-parallel-item:last-child::after {align-self: flex-start;width: 50%;}#sk-container-id-1 div.sk-parallel-item:only-child::after {width: 0;}#sk-container-id-1 div.sk-dashed-wrapped {border: 1px dashed gray;margin: 0 0.4em 0.5em 0.4em;box-sizing: border-box;padding-bottom: 0.4em;background-color: white;}#sk-container-id-1 div.sk-label label {font-family: monospace;font-weight: bold;display: inline-block;line-height: 1.2em;}#sk-container-id-1 div.sk-label-container {text-align: center;}#sk-container-id-1 div.sk-container {/* jupyter's `normalize.less` sets `[hidden] { display: none; }` but bootstrap.min.css set `[hidden] { display: none !important; }` so we also need the `!important` here to be able to override the default hidden behavior on the sphinx rendered scikit-learn.org. See: https://github.com/scikit-learn/scikit-learn/issues/21755 */display: inline-block !important;position: relative;}#sk-container-id-1 div.sk-text-repr-fallback {display: none;}</style><div id=\"sk-container-id-1\" class=\"sk-top-container\"><div class=\"sk-text-repr-fallback\"><pre>RandomForestRegressor()</pre><b>In a Jupyter environment, please rerun this cell to show the HTML representation or trust the notebook. <br />On GitHub, the HTML representation is unable to render, please try loading this page with nbviewer.org.</b></div><div class=\"sk-container\" hidden><div class=\"sk-item\"><div class=\"sk-estimator sk-toggleable\"><input class=\"sk-toggleable__control sk-hidden--visually\" id=\"sk-estimator-id-1\" type=\"checkbox\" checked><label for=\"sk-estimator-id-1\" class=\"sk-toggleable__label sk-toggleable__label-arrow\">RandomForestRegressor</label><div class=\"sk-toggleable__content\"><pre>RandomForestRegressor()</pre></div></div></div></div></div>"
      ],
      "text/plain": [
       "RandomForestRegressor()"
      ]
     },
     "execution_count": 10,
     "metadata": {},
     "output_type": "execute_result"
    }
   ],
   "source": [
    "from sklearn.ensemble import RandomForestRegressor\n",
    "\n",
    "randomForest = RandomForestRegressor()\n",
    "randomForest.fit(X_train, y_train)"
   ]
  },
  {
   "cell_type": "code",
   "execution_count": 11,
   "id": "60d69272-09d1-4202-88b1-c5adda6adc58",
   "metadata": {},
   "outputs": [],
   "source": [
    "y_pred = randomForest.predict(X_test)"
   ]
  },
  {
   "cell_type": "code",
   "execution_count": 12,
   "id": "64ad07a2-e377-4827-834f-332492b7c610",
   "metadata": {},
   "outputs": [
    {
     "name": "stdout",
     "output_type": "stream",
     "text": [
      "r2 0.7004789982964468\n",
      "mean_absolute_error 214.28323451523002\n",
      "mean_squared_error 233249.9056577142\n"
     ]
    }
   ],
   "source": [
    "from sklearn.metrics import r2_score, mean_absolute_error, mean_squared_error\n",
    "\n",
    "print(\"r2\", r2_score(y_test, y_pred))\n",
    "print(\"mean_absolute_error\", mean_absolute_error(y_test, y_pred))\n",
    "print(\"mean_squared_error\", mean_squared_error(y_test, y_pred))"
   ]
  },
  {
   "cell_type": "markdown",
   "id": "40ea02f0-7298-4447-bbb5-c0e5ca764c76",
   "metadata": {},
   "source": [
    "## Hypertunned Random Forest"
   ]
  },
  {
   "cell_type": "code",
   "execution_count": 13,
   "id": "5c9ffcc2-fbb7-4803-8faa-c2708073cfac",
   "metadata": {},
   "outputs": [
    {
     "data": {
      "text/html": [
       "<style>#sk-container-id-2 {color: black;background-color: white;}#sk-container-id-2 pre{padding: 0;}#sk-container-id-2 div.sk-toggleable {background-color: white;}#sk-container-id-2 label.sk-toggleable__label {cursor: pointer;display: block;width: 100%;margin-bottom: 0;padding: 0.3em;box-sizing: border-box;text-align: center;}#sk-container-id-2 label.sk-toggleable__label-arrow:before {content: \"▸\";float: left;margin-right: 0.25em;color: #696969;}#sk-container-id-2 label.sk-toggleable__label-arrow:hover:before {color: black;}#sk-container-id-2 div.sk-estimator:hover label.sk-toggleable__label-arrow:before {color: black;}#sk-container-id-2 div.sk-toggleable__content {max-height: 0;max-width: 0;overflow: hidden;text-align: left;background-color: #f0f8ff;}#sk-container-id-2 div.sk-toggleable__content pre {margin: 0.2em;color: black;border-radius: 0.25em;background-color: #f0f8ff;}#sk-container-id-2 input.sk-toggleable__control:checked~div.sk-toggleable__content {max-height: 200px;max-width: 100%;overflow: auto;}#sk-container-id-2 input.sk-toggleable__control:checked~label.sk-toggleable__label-arrow:before {content: \"▾\";}#sk-container-id-2 div.sk-estimator input.sk-toggleable__control:checked~label.sk-toggleable__label {background-color: #d4ebff;}#sk-container-id-2 div.sk-label input.sk-toggleable__control:checked~label.sk-toggleable__label {background-color: #d4ebff;}#sk-container-id-2 input.sk-hidden--visually {border: 0;clip: rect(1px 1px 1px 1px);clip: rect(1px, 1px, 1px, 1px);height: 1px;margin: -1px;overflow: hidden;padding: 0;position: absolute;width: 1px;}#sk-container-id-2 div.sk-estimator {font-family: monospace;background-color: #f0f8ff;border: 1px dotted black;border-radius: 0.25em;box-sizing: border-box;margin-bottom: 0.5em;}#sk-container-id-2 div.sk-estimator:hover {background-color: #d4ebff;}#sk-container-id-2 div.sk-parallel-item::after {content: \"\";width: 100%;border-bottom: 1px solid gray;flex-grow: 1;}#sk-container-id-2 div.sk-label:hover label.sk-toggleable__label {background-color: #d4ebff;}#sk-container-id-2 div.sk-serial::before {content: \"\";position: absolute;border-left: 1px solid gray;box-sizing: border-box;top: 0;bottom: 0;left: 50%;z-index: 0;}#sk-container-id-2 div.sk-serial {display: flex;flex-direction: column;align-items: center;background-color: white;padding-right: 0.2em;padding-left: 0.2em;position: relative;}#sk-container-id-2 div.sk-item {position: relative;z-index: 1;}#sk-container-id-2 div.sk-parallel {display: flex;align-items: stretch;justify-content: center;background-color: white;position: relative;}#sk-container-id-2 div.sk-item::before, #sk-container-id-2 div.sk-parallel-item::before {content: \"\";position: absolute;border-left: 1px solid gray;box-sizing: border-box;top: 0;bottom: 0;left: 50%;z-index: -1;}#sk-container-id-2 div.sk-parallel-item {display: flex;flex-direction: column;z-index: 1;position: relative;background-color: white;}#sk-container-id-2 div.sk-parallel-item:first-child::after {align-self: flex-end;width: 50%;}#sk-container-id-2 div.sk-parallel-item:last-child::after {align-self: flex-start;width: 50%;}#sk-container-id-2 div.sk-parallel-item:only-child::after {width: 0;}#sk-container-id-2 div.sk-dashed-wrapped {border: 1px dashed gray;margin: 0 0.4em 0.5em 0.4em;box-sizing: border-box;padding-bottom: 0.4em;background-color: white;}#sk-container-id-2 div.sk-label label {font-family: monospace;font-weight: bold;display: inline-block;line-height: 1.2em;}#sk-container-id-2 div.sk-label-container {text-align: center;}#sk-container-id-2 div.sk-container {/* jupyter's `normalize.less` sets `[hidden] { display: none; }` but bootstrap.min.css set `[hidden] { display: none !important; }` so we also need the `!important` here to be able to override the default hidden behavior on the sphinx rendered scikit-learn.org. See: https://github.com/scikit-learn/scikit-learn/issues/21755 */display: inline-block !important;position: relative;}#sk-container-id-2 div.sk-text-repr-fallback {display: none;}</style><div id=\"sk-container-id-2\" class=\"sk-top-container\"><div class=\"sk-text-repr-fallback\"><pre>RandomForestRegressor(criterion=&#x27;poisson&#x27;, max_depth=100, max_features=None)</pre><b>In a Jupyter environment, please rerun this cell to show the HTML representation or trust the notebook. <br />On GitHub, the HTML representation is unable to render, please try loading this page with nbviewer.org.</b></div><div class=\"sk-container\" hidden><div class=\"sk-item\"><div class=\"sk-estimator sk-toggleable\"><input class=\"sk-toggleable__control sk-hidden--visually\" id=\"sk-estimator-id-2\" type=\"checkbox\" checked><label for=\"sk-estimator-id-2\" class=\"sk-toggleable__label sk-toggleable__label-arrow\">RandomForestRegressor</label><div class=\"sk-toggleable__content\"><pre>RandomForestRegressor(criterion=&#x27;poisson&#x27;, max_depth=100, max_features=None)</pre></div></div></div></div></div>"
      ],
      "text/plain": [
       "RandomForestRegressor(criterion='poisson', max_depth=100, max_features=None)"
      ]
     },
     "execution_count": 13,
     "metadata": {},
     "output_type": "execute_result"
    }
   ],
   "source": [
    "from sklearn.ensemble import RandomForestRegressor\n",
    "\n",
    "randomForest = RandomForestRegressor(n_estimators=100, min_samples_split=2, max_features=None, max_depth=100, criterion='poisson')\n",
    "randomForest.fit(X_train, y_train)"
   ]
  },
  {
   "cell_type": "code",
   "execution_count": 14,
   "id": "9afcc640-5856-4a8c-9798-61e4f358414b",
   "metadata": {},
   "outputs": [],
   "source": [
    "y_pred_hypertunned = randomForest.predict(X_test)"
   ]
  },
  {
   "cell_type": "code",
   "execution_count": 15,
   "id": "8fde971e-d2b3-4c28-ada6-7de15b3b8a38",
   "metadata": {},
   "outputs": [
    {
     "name": "stdout",
     "output_type": "stream",
     "text": [
      "r2 0.7300437489898585\n",
      "mean_absolute_error 210.35207719140755\n",
      "mean_squared_error 210226.56081441237\n"
     ]
    }
   ],
   "source": [
    "from sklearn.metrics import r2_score, mean_absolute_error, mean_squared_error\n",
    "\n",
    "print(\"r2\", r2_score(y_test, y_pred_hypertunned))\n",
    "print(\"mean_absolute_error\", mean_absolute_error(y_test, y_pred_hypertunned))\n",
    "print(\"mean_squared_error\", mean_squared_error(y_test, y_pred_hypertunned))\n"
   ]
  },
  {
   "cell_type": "code",
   "execution_count": 18,
   "id": "52184088-1a3e-4705-a807-470dca521237",
   "metadata": {},
   "outputs": [],
   "source": [
    "# Exporting the model\n",
    "import pickle\n",
    "\n",
    "pickle.dump(randomForest, open('randomForest.pkl', 'wb'))\n",
    "pickle.dump(le1,  open('LabelEncoderFit.pkl', 'wb'))\n",
    "pickle.dump(le2,  open('LabelEncoderBrand.pkl', 'wb'))\n",
    "pickle.dump(preprocessor,  open('preprocessor.pkl', 'wb'))\n"
   ]
  },
  {
   "cell_type": "markdown",
   "id": "15253165-b6cb-4b7e-a7dc-7451c3d7a3e3",
   "metadata": {},
   "source": [
    "## Adaboost"
   ]
  },
  {
   "cell_type": "code",
   "execution_count": 19,
   "id": "e9a12ab0-c880-4cbe-90b6-a6073a4d7fad",
   "metadata": {},
   "outputs": [],
   "source": [
    "from sklearn.ensemble import AdaBoostRegressor\n",
    "\n",
    "adaBoost = AdaBoostRegressor()"
   ]
  },
  {
   "cell_type": "code",
   "execution_count": 20,
   "id": "ef5d1222-0f2e-453c-8faf-dff6f1d13a03",
   "metadata": {},
   "outputs": [
    {
     "data": {
      "text/html": [
       "<style>#sk-container-id-3 {color: black;background-color: white;}#sk-container-id-3 pre{padding: 0;}#sk-container-id-3 div.sk-toggleable {background-color: white;}#sk-container-id-3 label.sk-toggleable__label {cursor: pointer;display: block;width: 100%;margin-bottom: 0;padding: 0.3em;box-sizing: border-box;text-align: center;}#sk-container-id-3 label.sk-toggleable__label-arrow:before {content: \"▸\";float: left;margin-right: 0.25em;color: #696969;}#sk-container-id-3 label.sk-toggleable__label-arrow:hover:before {color: black;}#sk-container-id-3 div.sk-estimator:hover label.sk-toggleable__label-arrow:before {color: black;}#sk-container-id-3 div.sk-toggleable__content {max-height: 0;max-width: 0;overflow: hidden;text-align: left;background-color: #f0f8ff;}#sk-container-id-3 div.sk-toggleable__content pre {margin: 0.2em;color: black;border-radius: 0.25em;background-color: #f0f8ff;}#sk-container-id-3 input.sk-toggleable__control:checked~div.sk-toggleable__content {max-height: 200px;max-width: 100%;overflow: auto;}#sk-container-id-3 input.sk-toggleable__control:checked~label.sk-toggleable__label-arrow:before {content: \"▾\";}#sk-container-id-3 div.sk-estimator input.sk-toggleable__control:checked~label.sk-toggleable__label {background-color: #d4ebff;}#sk-container-id-3 div.sk-label input.sk-toggleable__control:checked~label.sk-toggleable__label {background-color: #d4ebff;}#sk-container-id-3 input.sk-hidden--visually {border: 0;clip: rect(1px 1px 1px 1px);clip: rect(1px, 1px, 1px, 1px);height: 1px;margin: -1px;overflow: hidden;padding: 0;position: absolute;width: 1px;}#sk-container-id-3 div.sk-estimator {font-family: monospace;background-color: #f0f8ff;border: 1px dotted black;border-radius: 0.25em;box-sizing: border-box;margin-bottom: 0.5em;}#sk-container-id-3 div.sk-estimator:hover {background-color: #d4ebff;}#sk-container-id-3 div.sk-parallel-item::after {content: \"\";width: 100%;border-bottom: 1px solid gray;flex-grow: 1;}#sk-container-id-3 div.sk-label:hover label.sk-toggleable__label {background-color: #d4ebff;}#sk-container-id-3 div.sk-serial::before {content: \"\";position: absolute;border-left: 1px solid gray;box-sizing: border-box;top: 0;bottom: 0;left: 50%;z-index: 0;}#sk-container-id-3 div.sk-serial {display: flex;flex-direction: column;align-items: center;background-color: white;padding-right: 0.2em;padding-left: 0.2em;position: relative;}#sk-container-id-3 div.sk-item {position: relative;z-index: 1;}#sk-container-id-3 div.sk-parallel {display: flex;align-items: stretch;justify-content: center;background-color: white;position: relative;}#sk-container-id-3 div.sk-item::before, #sk-container-id-3 div.sk-parallel-item::before {content: \"\";position: absolute;border-left: 1px solid gray;box-sizing: border-box;top: 0;bottom: 0;left: 50%;z-index: -1;}#sk-container-id-3 div.sk-parallel-item {display: flex;flex-direction: column;z-index: 1;position: relative;background-color: white;}#sk-container-id-3 div.sk-parallel-item:first-child::after {align-self: flex-end;width: 50%;}#sk-container-id-3 div.sk-parallel-item:last-child::after {align-self: flex-start;width: 50%;}#sk-container-id-3 div.sk-parallel-item:only-child::after {width: 0;}#sk-container-id-3 div.sk-dashed-wrapped {border: 1px dashed gray;margin: 0 0.4em 0.5em 0.4em;box-sizing: border-box;padding-bottom: 0.4em;background-color: white;}#sk-container-id-3 div.sk-label label {font-family: monospace;font-weight: bold;display: inline-block;line-height: 1.2em;}#sk-container-id-3 div.sk-label-container {text-align: center;}#sk-container-id-3 div.sk-container {/* jupyter's `normalize.less` sets `[hidden] { display: none; }` but bootstrap.min.css set `[hidden] { display: none !important; }` so we also need the `!important` here to be able to override the default hidden behavior on the sphinx rendered scikit-learn.org. See: https://github.com/scikit-learn/scikit-learn/issues/21755 */display: inline-block !important;position: relative;}#sk-container-id-3 div.sk-text-repr-fallback {display: none;}</style><div id=\"sk-container-id-3\" class=\"sk-top-container\"><div class=\"sk-text-repr-fallback\"><pre>AdaBoostRegressor()</pre><b>In a Jupyter environment, please rerun this cell to show the HTML representation or trust the notebook. <br />On GitHub, the HTML representation is unable to render, please try loading this page with nbviewer.org.</b></div><div class=\"sk-container\" hidden><div class=\"sk-item\"><div class=\"sk-estimator sk-toggleable\"><input class=\"sk-toggleable__control sk-hidden--visually\" id=\"sk-estimator-id-3\" type=\"checkbox\" checked><label for=\"sk-estimator-id-3\" class=\"sk-toggleable__label sk-toggleable__label-arrow\">AdaBoostRegressor</label><div class=\"sk-toggleable__content\"><pre>AdaBoostRegressor()</pre></div></div></div></div></div>"
      ],
      "text/plain": [
       "AdaBoostRegressor()"
      ]
     },
     "execution_count": 20,
     "metadata": {},
     "output_type": "execute_result"
    }
   ],
   "source": [
    "adaBoost.fit(X_train, y_train)"
   ]
  },
  {
   "cell_type": "code",
   "execution_count": 21,
   "id": "d533f084-d374-49d0-8b7b-807d778a1293",
   "metadata": {},
   "outputs": [],
   "source": [
    "y_pred_adaboost = adaBoost.predict(X_test)"
   ]
  },
  {
   "cell_type": "code",
   "execution_count": 22,
   "id": "658c9d90-9a71-41e6-8bc0-86d82e375f8c",
   "metadata": {},
   "outputs": [
    {
     "name": "stdout",
     "output_type": "stream",
     "text": [
      "r2 0.23281371712962773\n",
      "mean_absolute_error 606.1247279719837\n",
      "mean_squared_error 597441.0044158314\n"
     ]
    }
   ],
   "source": [
    "from sklearn.metrics import r2_score, mean_absolute_error, mean_squared_error\n",
    "\n",
    "print(\"r2\", r2_score(y_test, y_pred_adaboost))\n",
    "print(\"mean_absolute_error\", mean_absolute_error(y_test, y_pred_adaboost))\n",
    "print(\"mean_squared_error\", mean_squared_error(y_test, y_pred_adaboost))\n"
   ]
  },
  {
   "cell_type": "markdown",
   "id": "ef5605ce-6178-4df8-bfb1-097741fe1bc9",
   "metadata": {},
   "source": [
    "## Gradient Boosting"
   ]
  },
  {
   "cell_type": "code",
   "execution_count": 23,
   "id": "b341b336-38cd-4ae7-8a65-50705cb28eec",
   "metadata": {},
   "outputs": [],
   "source": [
    "from sklearn.ensemble import GradientBoostingRegressor\n",
    "\n",
    "gradient = GradientBoostingRegressor()"
   ]
  },
  {
   "cell_type": "code",
   "execution_count": 24,
   "id": "f532266a-3b94-4f57-ac9d-e4da5b45cf1a",
   "metadata": {},
   "outputs": [
    {
     "data": {
      "text/html": [
       "<style>#sk-container-id-4 {color: black;background-color: white;}#sk-container-id-4 pre{padding: 0;}#sk-container-id-4 div.sk-toggleable {background-color: white;}#sk-container-id-4 label.sk-toggleable__label {cursor: pointer;display: block;width: 100%;margin-bottom: 0;padding: 0.3em;box-sizing: border-box;text-align: center;}#sk-container-id-4 label.sk-toggleable__label-arrow:before {content: \"▸\";float: left;margin-right: 0.25em;color: #696969;}#sk-container-id-4 label.sk-toggleable__label-arrow:hover:before {color: black;}#sk-container-id-4 div.sk-estimator:hover label.sk-toggleable__label-arrow:before {color: black;}#sk-container-id-4 div.sk-toggleable__content {max-height: 0;max-width: 0;overflow: hidden;text-align: left;background-color: #f0f8ff;}#sk-container-id-4 div.sk-toggleable__content pre {margin: 0.2em;color: black;border-radius: 0.25em;background-color: #f0f8ff;}#sk-container-id-4 input.sk-toggleable__control:checked~div.sk-toggleable__content {max-height: 200px;max-width: 100%;overflow: auto;}#sk-container-id-4 input.sk-toggleable__control:checked~label.sk-toggleable__label-arrow:before {content: \"▾\";}#sk-container-id-4 div.sk-estimator input.sk-toggleable__control:checked~label.sk-toggleable__label {background-color: #d4ebff;}#sk-container-id-4 div.sk-label input.sk-toggleable__control:checked~label.sk-toggleable__label {background-color: #d4ebff;}#sk-container-id-4 input.sk-hidden--visually {border: 0;clip: rect(1px 1px 1px 1px);clip: rect(1px, 1px, 1px, 1px);height: 1px;margin: -1px;overflow: hidden;padding: 0;position: absolute;width: 1px;}#sk-container-id-4 div.sk-estimator {font-family: monospace;background-color: #f0f8ff;border: 1px dotted black;border-radius: 0.25em;box-sizing: border-box;margin-bottom: 0.5em;}#sk-container-id-4 div.sk-estimator:hover {background-color: #d4ebff;}#sk-container-id-4 div.sk-parallel-item::after {content: \"\";width: 100%;border-bottom: 1px solid gray;flex-grow: 1;}#sk-container-id-4 div.sk-label:hover label.sk-toggleable__label {background-color: #d4ebff;}#sk-container-id-4 div.sk-serial::before {content: \"\";position: absolute;border-left: 1px solid gray;box-sizing: border-box;top: 0;bottom: 0;left: 50%;z-index: 0;}#sk-container-id-4 div.sk-serial {display: flex;flex-direction: column;align-items: center;background-color: white;padding-right: 0.2em;padding-left: 0.2em;position: relative;}#sk-container-id-4 div.sk-item {position: relative;z-index: 1;}#sk-container-id-4 div.sk-parallel {display: flex;align-items: stretch;justify-content: center;background-color: white;position: relative;}#sk-container-id-4 div.sk-item::before, #sk-container-id-4 div.sk-parallel-item::before {content: \"\";position: absolute;border-left: 1px solid gray;box-sizing: border-box;top: 0;bottom: 0;left: 50%;z-index: -1;}#sk-container-id-4 div.sk-parallel-item {display: flex;flex-direction: column;z-index: 1;position: relative;background-color: white;}#sk-container-id-4 div.sk-parallel-item:first-child::after {align-self: flex-end;width: 50%;}#sk-container-id-4 div.sk-parallel-item:last-child::after {align-self: flex-start;width: 50%;}#sk-container-id-4 div.sk-parallel-item:only-child::after {width: 0;}#sk-container-id-4 div.sk-dashed-wrapped {border: 1px dashed gray;margin: 0 0.4em 0.5em 0.4em;box-sizing: border-box;padding-bottom: 0.4em;background-color: white;}#sk-container-id-4 div.sk-label label {font-family: monospace;font-weight: bold;display: inline-block;line-height: 1.2em;}#sk-container-id-4 div.sk-label-container {text-align: center;}#sk-container-id-4 div.sk-container {/* jupyter's `normalize.less` sets `[hidden] { display: none; }` but bootstrap.min.css set `[hidden] { display: none !important; }` so we also need the `!important` here to be able to override the default hidden behavior on the sphinx rendered scikit-learn.org. See: https://github.com/scikit-learn/scikit-learn/issues/21755 */display: inline-block !important;position: relative;}#sk-container-id-4 div.sk-text-repr-fallback {display: none;}</style><div id=\"sk-container-id-4\" class=\"sk-top-container\"><div class=\"sk-text-repr-fallback\"><pre>GradientBoostingRegressor()</pre><b>In a Jupyter environment, please rerun this cell to show the HTML representation or trust the notebook. <br />On GitHub, the HTML representation is unable to render, please try loading this page with nbviewer.org.</b></div><div class=\"sk-container\" hidden><div class=\"sk-item\"><div class=\"sk-estimator sk-toggleable\"><input class=\"sk-toggleable__control sk-hidden--visually\" id=\"sk-estimator-id-4\" type=\"checkbox\" checked><label for=\"sk-estimator-id-4\" class=\"sk-toggleable__label sk-toggleable__label-arrow\">GradientBoostingRegressor</label><div class=\"sk-toggleable__content\"><pre>GradientBoostingRegressor()</pre></div></div></div></div></div>"
      ],
      "text/plain": [
       "GradientBoostingRegressor()"
      ]
     },
     "execution_count": 24,
     "metadata": {},
     "output_type": "execute_result"
    }
   ],
   "source": [
    "gradient.fit(X_train, y_train)"
   ]
  },
  {
   "cell_type": "code",
   "execution_count": 25,
   "id": "d42b4b83-7998-4c9c-97c7-03dead4437ca",
   "metadata": {},
   "outputs": [],
   "source": [
    "y_pred_gradient = gradient.predict(X_test)"
   ]
  },
  {
   "cell_type": "code",
   "execution_count": 26,
   "id": "91a621dc-6b7e-40b5-94d0-674e8369d7cf",
   "metadata": {},
   "outputs": [
    {
     "name": "stdout",
     "output_type": "stream",
     "text": [
      "r2 0.5277706979473425\n",
      "mean_absolute_error 315.0807317975113\n",
      "mean_squared_error 367745.29841352324\n"
     ]
    }
   ],
   "source": [
    "from sklearn.metrics import r2_score, mean_absolute_error, mean_squared_error\n",
    "\n",
    "print(\"r2\", r2_score(y_test, y_pred_gradient))\n",
    "print(\"mean_absolute_error\", mean_absolute_error(y_test, y_pred_gradient))\n",
    "print(\"mean_squared_error\", mean_squared_error(y_test, y_pred_gradient))\n"
   ]
  },
  {
   "cell_type": "markdown",
   "id": "1b03e32f-390d-4b64-abfe-812199c761ef",
   "metadata": {},
   "source": [
    "## Hyperparameter Tunning"
   ]
  },
  {
   "cell_type": "code",
   "execution_count": 35,
   "id": "e9780e35-31e6-4bf0-b242-044417f06b6c",
   "metadata": {},
   "outputs": [],
   "source": [
    "gradient_params = {\n",
    "            \"max_depth\": [100, 110, 90, 115, 95],\n",
    "            \"loss\": ['squared_error', 'absolute_error', 'huber', 'quantile'],\n",
    "            \"learning_rate\" : [0.01, 0.1, 0.5, 0.9],\n",
    "            \"subsample\" : [0.4, 0.7, 0.8 ,0.9, 1],\n",
    "            \"min_samples_split\": [2, 3, 4, 5],\n",
    "            \"n_estimators\": [100, 110, 90, 95],\n",
    "            \"criterion\" : [\"squared_error\", \"friedman_mse\"],\n",
    "            \"min_samples_leaf\" : [10, 50, 100, 150, 200],\n",
    "            \"min_weight_fraction_leaf\" : [0.01, 0.1, 0.2, 0.3, 0.5]\n",
    "         }"
   ]
  },
  {
   "cell_type": "code",
   "execution_count": 45,
   "id": "0d2be176-e535-4cb5-81bc-5d6cbbdd7c13",
   "metadata": {},
   "outputs": [],
   "source": [
    "from sklearn.model_selection import GridSearchCV\n",
    "\n",
    "randomizedCV = GridSearchCV(estimator=GradientBoostingRegressor(), param_grid=gradient_params, cv=3, verbose=3, n_jobs=-1)"
   ]
  },
  {
   "cell_type": "code",
   "execution_count": null,
   "id": "36478f90-3204-4029-905c-7a23843b69c2",
   "metadata": {},
   "outputs": [
    {
     "name": "stdout",
     "output_type": "stream",
     "text": [
      "Fitting 3 folds for each of 320000 candidates, totalling 960000 fits\n"
     ]
    }
   ],
   "source": [
    "randomizedCV.fit(X_train, y_train)"
   ]
  },
  {
   "cell_type": "code",
   "execution_count": 38,
   "id": "dd9459ab-1625-4d3e-8a1b-aba889ca1449",
   "metadata": {},
   "outputs": [],
   "source": [
    "y_pred_randomizedCV = randomizedCV.predict(X_test)"
   ]
  },
  {
   "cell_type": "code",
   "execution_count": 39,
   "id": "c3574363-a647-485d-8e53-e81168f66aa9",
   "metadata": {},
   "outputs": [
    {
     "name": "stdout",
     "output_type": "stream",
     "text": [
      "r2 0.5412239537453591\n",
      "mean_absolute_error 324.3871333604868\n",
      "mean_squared_error 357268.66863521404\n"
     ]
    }
   ],
   "source": [
    "from sklearn.metrics import r2_score, mean_absolute_error, mean_squared_error\n",
    "\n",
    "print(\"r2\", r2_score(y_test, y_pred_randomizedCV))\n",
    "print(\"mean_absolute_error\", mean_absolute_error(y_test, y_pred_randomizedCV))\n",
    "print(\"mean_squared_error\", mean_squared_error(y_test, y_pred_randomizedCV))\n"
   ]
  },
  {
   "cell_type": "code",
   "execution_count": 40,
   "id": "1baaa6db-c474-411b-94a2-2c03bcbb9fa1",
   "metadata": {},
   "outputs": [
    {
     "data": {
      "text/plain": [
       "{'subsample': 0.4,\n",
       " 'n_estimators': 110,\n",
       " 'min_weight_fraction_leaf': 0.01,\n",
       " 'min_samples_split': 4,\n",
       " 'min_samples_leaf': 100,\n",
       " 'max_depth': 95,\n",
       " 'loss': 'squared_error',\n",
       " 'learning_rate': 0.9,\n",
       " 'criterion': 'squared_error'}"
      ]
     },
     "execution_count": 40,
     "metadata": {},
     "output_type": "execute_result"
    }
   ],
   "source": [
    "randomizedCV.best_params_"
   ]
  },
  {
   "cell_type": "code",
   "execution_count": null,
   "id": "c550b2d9-52ec-4643-840b-8c31d1dcb84f",
   "metadata": {},
   "outputs": [],
   "source": []
  }
 ],
 "metadata": {
  "kernelspec": {
   "display_name": "Python 3 (ipykernel)",
   "language": "python",
   "name": "python3"
  },
  "language_info": {
   "codemirror_mode": {
    "name": "ipython",
    "version": 3
   },
   "file_extension": ".py",
   "mimetype": "text/x-python",
   "name": "python",
   "nbconvert_exporter": "python",
   "pygments_lexer": "ipython3",
   "version": "3.11.7"
  }
 },
 "nbformat": 4,
 "nbformat_minor": 5
}
